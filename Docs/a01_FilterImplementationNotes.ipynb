{
 "cells": [
  {
   "cell_type": "code",
   "execution_count": 2,
   "metadata": {},
   "outputs": [],
   "source": [
    "import numpy as np\n",
    "import sympy as sp\n",
    "from scipy import signal\n",
    "import matplotlib.pyplot as plt"
   ]
  },
  {
   "cell_type": "markdown",
   "metadata": {},
   "source": [
    "Ref: Manolakis, D.G. and Ingle, V.K., 2011. Applied digital signal processing: theory and practice. Cambridge University Press."
   ]
  },
  {
   "cell_type": "markdown",
   "metadata": {},
   "source": [
    "This Butterworth low-pass filter tool contains implementation of methods to design low-pass Butterworth filters. The methods are implemented similar to Matlab design procedures. Two commands; Buttord and Butter are implemented.\n",
    "\n",
    "In this notebook, we use to demonstrate and verify the filter usage. "
   ]
  },
  {
   "cell_type": "markdown",
   "metadata": {},
   "source": [
    "### ANALOG FILTER SPECIFICATION FOR LOW-PASS FILTERING\n",
    "\n",
    "The filters are usually designed in continous time domain by specifiying the filter performance. The passband and stopband frequencies $W_p$ and $W_s$ and the ripple magnitutes for these regions are specified. In the following cell, we use Python scipy.signal library to implemenet a low-pass Butterworth filter which yields the order and cut-off frequency and the order of the filter>"
   ]
  },
  {
   "cell_type": "code",
   "execution_count": 3,
   "metadata": {},
   "outputs": [],
   "source": [
    "# N  : order of the filter\n",
    "# Wc : cut-off frequency\n",
    "# Wp : passpand frequency [rad/sec] \n",
    "# Ws : stopband frequency [rad/sec]\n",
    "# Ap : passband ripple magnitude [dB] maximum loss in passband\n",
    "# As : stopband ripple magnitude [dB] minimum attenuation in stopband\n",
    "\n",
    "\n",
    "Wp = 2\n",
    "Ws = 3\n",
    "Ap = 6\n",
    "As = 20\n",
    "\n",
    "\n",
    "N, Wc = signal.buttord(Wp, Ws, Ap, As, True)"
   ]
  },
  {
   "cell_type": "code",
   "execution_count": 4,
   "metadata": {},
   "outputs": [
    {
     "data": {
      "text/plain": [
       "(5, 1.793051458184297)"
      ]
     },
     "execution_count": 4,
     "metadata": {},
     "output_type": "execute_result"
    }
   ],
   "source": [
    "N, Wc"
   ]
  },
  {
   "cell_type": "code",
   "execution_count": 8,
   "metadata": {},
   "outputs": [
    {
     "data": {
      "text/plain": [
       "array([18.53376991])"
      ]
     },
     "execution_count": 8,
     "metadata": {},
     "output_type": "execute_result"
    }
   ],
   "source": [
    "b, a = signal.butter(N, Wc, 'low', True)\n",
    "b"
   ]
  },
  {
   "cell_type": "code",
   "execution_count": 9,
   "metadata": {},
   "outputs": [
    {
     "data": {
      "text/plain": [
       "array([ 1.        ,  5.80243641, 16.83413412, 30.18446873, 33.44942446,\n",
       "       18.53376991])"
      ]
     },
     "execution_count": 9,
     "metadata": {},
     "output_type": "execute_result"
    }
   ],
   "source": [
    "a"
   ]
  },
  {
   "cell_type": "code",
   "execution_count": 10,
   "metadata": {},
   "outputs": [],
   "source": [
    "w, h = signal.freqs(b, a, np.logspace(-2, 3, 500))"
   ]
  },
  {
   "cell_type": "code",
   "execution_count": 6,
   "metadata": {
    "scrolled": true
   },
   "outputs": [
    {
     "data": {
      "text/plain": [
       "Text(0, 0.5, 'Amplitude [dB]')"
      ]
     },
     "execution_count": 6,
     "metadata": {},
     "output_type": "execute_result"
    },
    {
     "data": {
      "image/png": "[encoded data removed]",
      "text/plain": [
       "<Figure size 432x288 with 1 Axes>"
      ]
     },
     "metadata": {
      "needs_background": "light"
     },
     "output_type": "display_data"
    }
   ],
   "source": [
    "plt.plot(w, 20 * np.log10(abs(h)))\n",
    "plt.xscale('log')\n",
    "plt.title('Butterworth low-pass filter fit to constraints')\n",
    "plt.xlabel('Frequency [radians / second]')\n",
    "plt.ylabel('Amplitude [dB]')"
   ]
  },
  {
   "cell_type": "markdown",
   "metadata": {},
   "source": [
    "### IMPLEMENTING FILTER TRANSFER FUNCTIONS\n",
    "\n",
    "Once the order and cut-off frequency of the filter are defined, it is trivial to find roots of the filter transfer function in continuous time. The polynomials of the continuous and discrete time transfer functions are required. We implement a poly method that takes the roots of the polynomial and yields the coefficient of it. \n",
    "\n",
    "$roots = [r_1, \\:, r_2, \\:, \\cdots, r_n]$\n",
    "\n",
    "Poly(roots) = $(x-r_1)(x-r_2)\\cdots(x-r_n)=  a_nx^n + a_{n-1}x^{n-1} + \\cdots + a_0$ \n",
    "\n"
   ]
  },
  {
   "cell_type": "code",
   "execution_count": 7,
   "metadata": {},
   "outputs": [],
   "source": [
    "def poly(r):\n",
    "    ''' Returns the polynomial coefficients given the roots'''\n",
    "    n = len(r)\n",
    "    c = [0] * (n+1)\n",
    "    c[0] = 1 \n",
    "    \n",
    "    for j in range(n):\n",
    "        for i in range(j, -1, -1):           \n",
    "            c[i+1] = c[i+1] - r[j]*c[i]\n",
    "    \n",
    "    return c"
   ]
  },
  {
   "cell_type": "code",
   "execution_count": 8,
   "metadata": {},
   "outputs": [],
   "source": [
    "## Test the poly function by defining real and complex roots sets. "
   ]
  },
  {
   "cell_type": "code",
   "execution_count": 9,
   "metadata": {},
   "outputs": [],
   "source": [
    "roots = [1, 2, 3, 5]"
   ]
  },
  {
   "cell_type": "code",
   "execution_count": 10,
   "metadata": {},
   "outputs": [],
   "source": [
    "roots_complex = [-1+2j, -1-2j]"
   ]
  },
  {
   "cell_type": "code",
   "execution_count": 11,
   "metadata": {},
   "outputs": [
    {
     "data": {
      "text/plain": [
       "[1, -11, 41, -61, 30]"
      ]
     },
     "execution_count": 11,
     "metadata": {},
     "output_type": "execute_result"
    }
   ],
   "source": [
    "poly(roots)"
   ]
  },
  {
   "cell_type": "code",
   "execution_count": 12,
   "metadata": {},
   "outputs": [
    {
     "data": {
      "text/latex": [
       "$\\displaystyle x^{4} - 11 x^{3} + 41 x^{2} - 61 x + 30$"
      ],
      "text/plain": [
       "x**4 - 11*x**3 + 41*x**2 - 61*x + 30"
      ]
     },
     "execution_count": 12,
     "metadata": {},
     "output_type": "execute_result"
    }
   ],
   "source": [
    "x = sp.symbols('x')\n",
    "exp = 1\n",
    "\n",
    "for i in range(len(roots)):\n",
    "    exp *= (x-roots[i])\n",
    "\n",
    "exp.expand()"
   ]
  },
  {
   "cell_type": "code",
   "execution_count": 13,
   "metadata": {},
   "outputs": [
    {
     "data": {
      "text/plain": [
       "[1, (2+0j), (5+0j)]"
      ]
     },
     "execution_count": 13,
     "metadata": {},
     "output_type": "execute_result"
    }
   ],
   "source": [
    "poly(roots_complex)"
   ]
  },
  {
   "cell_type": "code",
   "execution_count": 14,
   "metadata": {},
   "outputs": [
    {
     "data": {
      "text/latex": [
       "$\\displaystyle x^{2} + 2.0 x + 5.0$"
      ],
      "text/plain": [
       "x**2 + 2.0*x + 5.0"
      ]
     },
     "execution_count": 14,
     "metadata": {},
     "output_type": "execute_result"
    }
   ],
   "source": [
    "exp = 1\n",
    "\n",
    "for i in range(len(roots_complex)):\n",
    "    exp *= (x-roots_complex[i])\n",
    "\n",
    "exp.expand()"
   ]
  }
 ],
 "metadata": {
  "@webio": {
   "lastCommId": null,
   "lastKernelId": null
  },
  "kernelspec": {
   "display_name": "Python 3",
   "language": "python",
   "name": "python3"
  },
  "language_info": {
   "codemirror_mode": {
    "name": "ipython",
    "version": 3
   },
   "file_extension": ".py",
   "mimetype": "text/x-python",
   "name": "python",
   "nbconvert_exporter": "python",
   "pygments_lexer": "ipython3",
   "version": "3.6.8"
  }
 },
 "nbformat": 4,
 "nbformat_minor": 2
}
