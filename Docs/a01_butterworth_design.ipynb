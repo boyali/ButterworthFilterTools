{
 "cells": [
  {
   "cell_type": "code",
   "execution_count": 1,
   "metadata": {},
   "outputs": [],
   "source": [
    "import numpy as np\n",
    "import sympy as sp"
   ]
  },
  {
   "cell_type": "markdown",
   "metadata": {},
   "source": [
    "Reference : Digital Signal Processing Theory  and Practice pp 633 Design of IIR filters\n",
    "\n",
    "I skip implementation of Buttord in which the filter specifications are given, filter order are and cut-off frequency can be found. \n",
    "\n",
    "**Assume that the cut-off frequency** $\\Omega_c$ and the order of the filter **N** is given in rad/sec. \n",
    "\n",
    "The roots of the filter transfer function is computed according to following equations. \n",
    "\n",
    "$$s_k = \\sigma_k + j\\Omega_k$$\n",
    "\n",
    "$$\n",
    "\\begin{aligned} \\sigma_{k} &=\\Omega_{\\mathrm{c}} \\cos \\theta_{k} \\\\ \\Omega_{k} &=\\Omega_{\\mathrm{c}} \\sin \\theta_{k} \\\\ \\theta_{k} \\triangleq \\frac{\\pi}{2}+\\frac{2 k-1}{2 N} \\pi & k=1,2, \\ldots, 2 N \\end{aligned}\n",
    "$$\n",
    "\n",
    "$$H_{\\mathrm{B}}(s)=\\frac{\\Omega_{\\mathrm{c}}^{N}}{\\left(s-s_{1}\\right)\\left(s-s_{2}\\right) \\ldots\\left(s-s_{N}\\right)}$$"
   ]
  },
  {
   "cell_type": "markdown",
   "metadata": {},
   "source": [
    "For a chosen order N = 2 and cut-off frequency $\\Omega_c$ = 1.8945 let's compute the roots of the continous domain transfer function of the filter."
   ]
  },
  {
   "cell_type": "code",
   "execution_count": 2,
   "metadata": {},
   "outputs": [],
   "source": [
    "Ωc = 1.8948\n",
    "N = 5\n",
    "s, z = sp.symbols('s z')\n",
    "numerator = Ωc**2\n",
    "denominator = 1"
   ]
  },
  {
   "cell_type": "markdown",
   "metadata": {},
   "source": [
    "####  The roots are"
   ]
  },
  {
   "cell_type": "code",
   "execution_count": 3,
   "metadata": {
    "scrolled": true
   },
   "outputs": [
    {
     "name": "stdout",
     "output_type": "stream",
     "text": [
      "(-0.5855254009416503+1.8020618870760572j)\n",
      "(-1.5329254009416502+1.1137354960437784j)\n",
      "(-1.8948+2.320460755024405e-16j)\n",
      "(-1.5329254009416506-1.113735496043778j)\n",
      "(-0.5855254009416506-1.802061887076057j)\n"
     ]
    }
   ],
   "source": [
    "root_angles = []\n",
    "complex_roots = []\n",
    "\n",
    "\n",
    "for k in range(1, N+1):\n",
    "    θk  = np.pi / 2 + np.pi*(2*k-1)/(2*N)\n",
    "    sk = Ωc * np.cos(θk) + 1j*Ωc *np.sin(θk)\n",
    "    denominator = denominator * (s-sk)\n",
    "    \n",
    "    root_angles.append(θk)\n",
    "    complex_roots.append(sk)\n",
    "    \n",
    "    print(sk)\n",
    " \n",
    "    \n",
    "    "
   ]
  },
  {
   "cell_type": "code",
   "execution_count": 4,
   "metadata": {},
   "outputs": [
    {
     "data": {
      "text/plain": [
       "1.8849555921538759"
      ]
     },
     "execution_count": 4,
     "metadata": {},
     "output_type": "execute_result"
    }
   ],
   "source": [
    "k = 1\n",
    "np.pi / 2 + np.pi*(2*k-1)/(2*N)"
   ]
  },
  {
   "cell_type": "code",
   "execution_count": 5,
   "metadata": {},
   "outputs": [
    {
     "data": {
      "text/plain": [
       "[1.8849555921538759,\n",
       " 2.5132741228718345,\n",
       " 3.141592653589793,\n",
       " 3.7699111843077517,\n",
       " 4.39822971502571]"
      ]
     },
     "execution_count": 5,
     "metadata": {},
     "output_type": "execute_result"
    }
   ],
   "source": [
    "root_angles"
   ]
  },
  {
   "cell_type": "code",
   "execution_count": 6,
   "metadata": {},
   "outputs": [
    {
     "data": {
      "text/latex": [
       "$\\displaystyle \\left(s + 0.58552540094165 - 1.80206188707606 i\\right) \\left(s + 0.585525400941651 + 1.80206188707606 i\\right) \\left(s + 1.53292540094165 - 1.11373549604378 i\\right) \\left(s + 1.53292540094165 + 1.11373549604378 i\\right) \\left(s + 1.8948 - 2.32046075502441 \\cdot 10^{-16} i\\right)$"
      ],
      "text/plain": [
       "(s + 0.58552540094165 - 1.80206188707606*I)*(s + 0.585525400941651 + 1.80206188707606*I)*(s + 1.53292540094165 - 1.11373549604378*I)*(s + 1.53292540094165 + 1.11373549604378*I)*(s + 1.8948 - 2.32046075502441e-16*I)"
      ]
     },
     "execution_count": 6,
     "metadata": {},
     "output_type": "execute_result"
    }
   ],
   "source": [
    "denominator "
   ]
  },
  {
   "cell_type": "code",
   "execution_count": 7,
   "metadata": {},
   "outputs": [
    {
     "data": {
      "text/latex": [
       "$\\displaystyle s^{5} + 6.1317016037666 s^{4} - 8.88178419700125 \\cdot 10^{-16} i s^{4} + 18.798882278817 s^{3} - 5.77315972805081 \\cdot 10^{-15} i s^{3} + 35.6201221419024 s^{2} - 1.86517468137026 \\cdot 10^{-14} i s^{2} + 41.7129725974559 s - 2.66453525910038 \\cdot 10^{-14} i s + 24.4240050045934 - 1.95399252334028 \\cdot 10^{-14} i$"
      ],
      "text/plain": [
       "s**5 + 6.1317016037666*s**4 - 8.88178419700125e-16*I*s**4 + 18.798882278817*s**3 - 5.77315972805081e-15*I*s**3 + 35.6201221419024*s**2 - 1.86517468137026e-14*I*s**2 + 41.7129725974559*s - 2.66453525910038e-14*I*s + 24.4240050045934 - 1.95399252334028e-14*I"
      ]
     },
     "execution_count": 7,
     "metadata": {},
     "output_type": "execute_result"
    }
   ],
   "source": [
    "denominator.expand()"
   ]
  },
  {
   "cell_type": "code",
   "execution_count": 8,
   "metadata": {},
   "outputs": [
    {
     "data": {
      "text/plain": [
       "[(-0.5855254009416503+1.8020618870760572j),\n",
       " (-1.5329254009416502+1.1137354960437784j),\n",
       " (-1.8948+2.320460755024405e-16j),\n",
       " (-1.5329254009416506-1.113735496043778j),\n",
       " (-0.5855254009416506-1.802061887076057j)]"
      ]
     },
     "execution_count": 8,
     "metadata": {},
     "output_type": "execute_result"
    }
   ],
   "source": [
    " complex_roots"
   ]
  },
  {
   "cell_type": "markdown",
   "metadata": {},
   "source": [
    "The transfer function in the continous domain is obtained from the given cut-off frequency using the definitions at the beginning. In this case the transfer function of the filter. The complex part can be neglected as it is so small.\n",
    "\n"
   ]
  },
  {
   "cell_type": "code",
   "execution_count": 9,
   "metadata": {},
   "outputs": [
    {
     "data": {
      "text/latex": [
       "$\\displaystyle \\frac{3.59026704}{s^{5} + 6.1317016037666 s^{4} - 8.88178419700125 \\cdot 10^{-16} i s^{4} + 18.798882278817 s^{3} - 5.77315972805081 \\cdot 10^{-15} i s^{3} + 35.6201221419024 s^{2} - 1.86517468137026 \\cdot 10^{-14} i s^{2} + 41.7129725974559 s - 2.66453525910038 \\cdot 10^{-14} i s + 24.4240050045934 - 1.95399252334028 \\cdot 10^{-14} i}$"
      ],
      "text/plain": [
       "3.59026704/(s**5 + 6.1317016037666*s**4 - 8.88178419700125e-16*I*s**4 + 18.798882278817*s**3 - 5.77315972805081e-15*I*s**3 + 35.6201221419024*s**2 - 1.86517468137026e-14*I*s**2 + 41.7129725974559*s - 2.66453525910038e-14*I*s + 24.4240050045934 - 1.95399252334028e-14*I)"
      ]
     },
     "execution_count": 9,
     "metadata": {},
     "output_type": "execute_result"
    }
   ],
   "source": [
    "Hs = numerator / denominator.expand()\n",
    "Hs"
   ]
  },
  {
   "cell_type": "markdown",
   "metadata": {},
   "source": [
    "### Bilinear Transformation\n",
    "\n",
    " "
   ]
  },
  {
   "cell_type": "markdown",
   "metadata": {},
   "source": [
    "$$H(z)=G \\frac{\\left(1+z^{-1}\\right)^{N-M} \\prod_{k=1}^{M}\\left(1-z_{k} z^{-1}\\right)}{\\prod_{k=1}^{N}\\left(1-p_{k} z^{-1}\\right)}$$ \n",
    "where\n",
    "$$z_{k}=\\frac{1+T_{\\mathrm{d}} \\zeta_{k} / 2}{1-T_{\\mathrm{d}} \\zeta_{k} / 2}, p_{k}=\\frac{1+T_{\\mathrm{d}} s_{k} / 2}{1-T_{\\mathrm{d}} s_{k} / 2}$$ and\n",
    "\n",
    "$$G=\\frac{\\beta_{0}\\left(\\frac{T_{d}}{2}\\right)^{N-M} \\prod_{k=1}^{M}\\left(1-\\zeta_{k} \\frac{T_{d}}{2}\\right)}{\\prod_{k=1}^{N}\\left(1-s_{k} \\frac{T_{d}}{2}\\right)}$$\n",
    "\n",
    "$\\beta_0$ seems is the gain of continous tf, or filter gain from the continous transfer function. Td = 2 is chosen. \n",
    "\n",
    "G is the gain of the filter. "
   ]
  },
  {
   "cell_type": "code",
   "execution_count": 10,
   "metadata": {},
   "outputs": [
    {
     "data": {
      "text/plain": [
       "3.59026704"
      ]
     },
     "execution_count": 10,
     "metadata": {},
     "output_type": "execute_result"
    }
   ],
   "source": [
    "Td = 2\n",
    "β0 = Ωc**2\n",
    "β0"
   ]
  },
  {
   "cell_type": "code",
   "execution_count": 11,
   "metadata": {},
   "outputs": [],
   "source": [
    "# coefficient of continous time denominator\n",
    "denominator_coeffs = [1, 2.68, 3.59]"
   ]
  },
  {
   "cell_type": "markdown",
   "metadata": {},
   "source": [
    "### Zeros of the filter for the given \n",
    "Since the N =2 order is two and M = 0, no zeros in the contionous filter, we put N-M = 2 zeros at -1"
   ]
  },
  {
   "cell_type": "code",
   "execution_count": 12,
   "metadata": {},
   "outputs": [],
   "source": [
    "z1 = -1\n",
    "z2 = -1"
   ]
  },
  {
   "cell_type": "code",
   "execution_count": 13,
   "metadata": {},
   "outputs": [
    {
     "data": {
      "text/plain": [
       "[(-0.5855254009416503+1.8020618870760572j),\n",
       " (-1.5329254009416502+1.1137354960437784j),\n",
       " (-1.8948+2.320460755024405e-16j),\n",
       " (-1.5329254009416506-1.113735496043778j),\n",
       " (-0.5855254009416506-1.802061887076057j)]"
      ]
     },
     "execution_count": 13,
     "metadata": {},
     "output_type": "execute_result"
    }
   ],
   "source": [
    "complex_roots"
   ]
  },
  {
   "cell_type": "code",
   "execution_count": 14,
   "metadata": {},
   "outputs": [
    {
     "data": {
      "text/latex": [
       "$\\displaystyle z^{2} + 2 z + 1$"
      ],
      "text/plain": [
       "z**2 + 2*z + 1"
      ]
     },
     "execution_count": 14,
     "metadata": {},
     "output_type": "execute_result"
    }
   ],
   "source": [
    "numerator_filter =(1- z1 *z) * (1-z2*z)\n",
    "sp.simplify(numerator_filter.expand()) # the output z is actuall 1/z"
   ]
  },
  {
   "cell_type": "markdown",
   "metadata": {},
   "source": [
    "### Poles of the filter transfer function"
   ]
  },
  {
   "cell_type": "code",
   "execution_count": 15,
   "metadata": {},
   "outputs": [
    {
     "data": {
      "text/plain": [
       "(-0.44959627486083564+0.625572806962855j)"
      ]
     },
     "execution_count": 15,
     "metadata": {},
     "output_type": "execute_result"
    }
   ],
   "source": [
    "p1 = (1+complex_roots[0]) / (1-complex_roots[0])\n",
    "p1"
   ]
  },
  {
   "cell_type": "code",
   "execution_count": 16,
   "metadata": {},
   "outputs": [
    {
     "data": {
      "text/plain": [
       "(-0.33832643299059123+0.2909400087733798j)"
      ]
     },
     "execution_count": 16,
     "metadata": {},
     "output_type": "execute_result"
    }
   ],
   "source": [
    "p2 = (1+complex_roots[1]) / (1-complex_roots[1])\n",
    "p2"
   ]
  },
  {
   "cell_type": "code",
   "execution_count": 17,
   "metadata": {},
   "outputs": [
    {
     "data": {
      "text/latex": [
       "$\\displaystyle - 0.0298938539866369 z^{2} - 0.342453360508145 i z^{2} + 0.787922707851427 z - 0.916512815736235 i z + 1$"
      ],
      "text/plain": [
       "-0.0298938539866369*z**2 - 0.342453360508145*I*z**2 + 0.787922707851427*z - 0.916512815736235*I*z + 1"
      ]
     },
     "execution_count": 17,
     "metadata": {},
     "output_type": "execute_result"
    }
   ],
   "source": [
    "denominator_filter = (1 - p1*z)*(1-p2*z)\n",
    "denominator_filter.expand()"
   ]
  },
  {
   "cell_type": "code",
   "execution_count": 18,
   "metadata": {},
   "outputs": [
    {
     "data": {
      "text/plain": [
       "0.5405819366634291"
      ]
     },
     "execution_count": 18,
     "metadata": {},
     "output_type": "execute_result"
    }
   ],
   "source": [
    "Gain = β0*(1) / np.abs (((1-complex_roots[0])*((1-complex_roots[1]))))\n",
    "Gain "
   ]
  },
  {
   "cell_type": "code",
   "execution_count": 19,
   "metadata": {},
   "outputs": [
    {
     "data": {
      "text/plain": [
       "1.9408335096220772"
      ]
     },
     "execution_count": 19,
     "metadata": {},
     "output_type": "execute_result"
    }
   ],
   "source": [
    "Ωc**2 * Gain"
   ]
  },
  {
   "cell_type": "markdown",
   "metadata": {},
   "source": [
    "### Therefore, the filter transfer function is;"
   ]
  },
  {
   "cell_type": "code",
   "execution_count": 136,
   "metadata": {},
   "outputs": [
    {
     "data": {
      "text/latex": [
       "$\\displaystyle \\frac{0.493852419866106 z^{2} + 0.987704839732212 z + 0.493852419866106}{0.262811072424088 z^{2} - 2.77555756156289 \\cdot 10^{-17} i z^{2} + 0.712598607040336 z - 1.11022302462516 \\cdot 10^{-16} i z + 1}$"
      ],
      "text/plain": [
       "(0.493852419866106*z**2 + 0.987704839732212*z + 0.493852419866106)/(0.262811072424088*z**2 - 2.77555756156289e-17*I*z**2 + 0.712598607040336*z - 1.11022302462516e-16*I*z + 1)"
      ]
     },
     "execution_count": 136,
     "metadata": {},
     "output_type": "execute_result"
    }
   ],
   "source": [
    "Hz = Gain * numerator_filter.expand() / denominator_filter.expand()\n",
    "Hz"
   ]
  },
  {
   "cell_type": "code",
   "execution_count": null,
   "metadata": {},
   "outputs": [],
   "source": []
  },
  {
   "cell_type": "code",
   "execution_count": 22,
   "metadata": {},
   "outputs": [
    {
     "data": {
      "text/plain": [
       "0.13755311634593786"
      ]
     },
     "execution_count": 22,
     "metadata": {},
     "output_type": "execute_result"
    }
   ],
   "source": [
    "1/np.abs (((1-complex_roots[0])*((1-complex_roots[1]))))"
   ]
  }
 ],
 "metadata": {
  "kernelspec": {
   "display_name": "Python 3",
   "language": "python",
   "name": "python3"
  },
  "language_info": {
   "codemirror_mode": {
    "name": "ipython",
    "version": 3
   },
   "file_extension": ".py",
   "mimetype": "text/x-python",
   "name": "python",
   "nbconvert_exporter": "python",
   "pygments_lexer": "ipython3",
   "version": "3.6.8"
  }
 },
 "nbformat": 4,
 "nbformat_minor": 2
}
